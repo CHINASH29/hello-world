{
 "cells": [
  {
   "cell_type": "code",
   "execution_count": 71,
   "metadata": {},
   "outputs": [],
   "source": [
    "import calendar\n",
    "import datetime"
   ]
  },
  {
   "cell_type": "code",
   "execution_count": 72,
   "metadata": {},
   "outputs": [],
   "source": [
    "BCA_code=40300\n",
    "all_sub=[\"Python\",\"Computer Networks\",\"Mobile Applications\",\"Graphic Designing\",\"Cyber Security\",\"Multimedia\"]\n",
    "core_subject_list=[\"Python\",\"Computer Networks\"]\n",
    "op1_subject=[\"Mobile Applications\",\"Graphic Designing\"]\n",
    "op2_subject=[\"Cyber Security\",\"Multimedia\"]"
   ]
  },
  {
   "cell_type": "code",
   "execution_count": 73,
   "metadata": {},
   "outputs": [],
   "source": [
    "class Student:\n",
    "    Name=\"\"\n",
    "    Reg_no=\"\"\n",
    "    Subject=dict()\n",
    "    stud_sub=[]\n",
    "    \n",
    "    def __init__(self,name):\n",
    "        self.Name=name\n",
    "        \n",
    "    def reg_no(self,reg):\n",
    "        self.Reg_no=reg\n",
    "        \n",
    "    def __str__(self):\n",
    "        return \"{} {} \".format(self.Reg_no,self.Name)\n",
    "    \n",
    "    def sub_value(self):\n",
    "        return self.stud_sub\n",
    "        \n",
    "    def sub(self,subjects):\n",
    "        self.stud_sub.append(subjects)\n",
    "        self.Subject[subjects]={}\n",
    "        self.Subject[subjects]['Date']=[]\n",
    "        self.Subject[subjects]['Attendence']=[]\n",
    "        \n",
    "    def attendence(self,sub,date,mark):\n",
    "        self.Subject[sub]['Date'].append(date)\n",
    "        self.Subject[sub]['Attendence'].append(mark)\n",
    "        \n",
    "    def result_attendence(self,subject):\n",
    "        print(\"{} Attendence\".format(subject))\n",
    "        print(\"Date\\tPresent/Absent\")\n",
    "        for j in range(len(self.Subject[subject]['Date'])):\n",
    "            \n",
    "            for i in self.Subject[subject].values():\n",
    "                print(i[j],end=\"\\t\")\n",
    "            print(end=\"\\n\")\n",
    "                \n",
    "        \n",
    "       \n"
   ]
  },
  {
   "cell_type": "code",
   "execution_count": 74,
   "metadata": {},
   "outputs": [
    {
     "name": "stdout",
     "output_type": "stream",
     "text": [
      "Enter No. of Students: 2\n",
      "Enter Student 1 Name: Triambak\n",
      "Enter Student 2 Name: Asastha\n"
     ]
    }
   ],
   "source": [
    "# Form The Student list\n",
    "\n",
    "Student_list=[]\n",
    "name=''\n",
    "reg=1\n",
    "\n",
    "while True:\n",
    "    try:\n",
    "        Number_of_students = int(input(\"Enter No. of Students: \"))\n",
    "        if(Number_of_students>0):\n",
    "            break\n",
    "        else:\n",
    "            print(\"Value must be grater than 0\")\n",
    "    except Exception:\n",
    "        print(\"Enter only integer value \")\n",
    "        \n",
    "\n",
    "for i in range(Number_of_students):\n",
    "    # Taking Student Name\n",
    "    while True:\n",
    "        try:\n",
    "            name=input(\"Enter Student {} Name: \".format(i+1))\n",
    "            name=name.upper()\n",
    "            if name.isalpha():\n",
    "                break\n",
    "            else:\n",
    "                print(\"Student Name must contain only alphabets...\")\n",
    "                print(\"Enter name again.....\\n\")\n",
    "        except Exception:\n",
    "            print(\"Error Occured\")\n",
    "            \n",
    "    # Creating Student Object       \n",
    "    Student_list.append(Student(name))\n",
    "    \n",
    "# Sorting the Students with respect to their Names\n",
    "Student_list.sort(key=lambda x:x.Name)\n",
    "\n",
    "# Assigning Register No. to Students\n",
    "for i in Student_list:\n",
    "    i.reg_no(BCA_code+reg)\n",
    "    reg+=1\n",
    "    \n",
    "        \n",
    "\n",
    "        \n",
    "\n"
   ]
  },
  {
   "cell_type": "code",
   "execution_count": 75,
   "metadata": {},
   "outputs": [
    {
     "name": "stdout",
     "output_type": "stream",
     "text": [
      "Choose optional Subject for Students.(Enter 1/2 only)\n",
      "\n",
      "---------------------\n",
      "40301 ASASTHA \n",
      "---------------------\n",
      "Subject 1:\n",
      "\t1) Mobile Applications\n",
      "\t2) Graphic Designing\n",
      "Enter: 1\n",
      "Subject 2:\n",
      "\t1) Cyber Security\n",
      "\t2) Multimedia\n",
      "Enter: 2\n",
      "---------------------\n",
      "40302 TRIAMBAK \n",
      "---------------------\n",
      "Subject 1:\n",
      "\t1) Mobile Applications\n",
      "\t2) Graphic Designing\n",
      "Enter: 2\n",
      "Subject 2:\n",
      "\t1) Cyber Security\n",
      "\t2) Multimedia\n",
      "Enter: 1\n"
     ]
    }
   ],
   "source": [
    "# Assign Optional subjects to Students\n",
    "op1=0\n",
    "op2=0\n",
    "print(\"Choose optional Subject for Students.(Enter 1/2 only)\\n\")\n",
    "for i in Student_list:\n",
    "    print(\"---------------------\")\n",
    "    print(i)\n",
    "    print(\"---------------------\")\n",
    "    i.stud_sub=[]\n",
    "    while True:\n",
    "        try:\n",
    "            op1=int(input(\"Subject 1:\\n\\t1) Mobile Applications\\n\\t2) Graphic Designing\\nEnter: \"))\n",
    "            if(op1==1 or op1==2):\n",
    "                break\n",
    "            else:\n",
    "                print(\"Wrong Input...enter agin\")\n",
    "        except Exception:\n",
    "            print(\"Error Occured...enter again\")\n",
    "    while True:\n",
    "        try:\n",
    "            op2=int(input(\"Subject 2:\\n\\t1) Cyber Security\\n\\t2) Multimedia\\nEnter: \"))\n",
    "            if(op2==1 or op2==2):\n",
    "                break\n",
    "            else:\n",
    "                print(\"Wrong Input...enter agin\")\n",
    "        except Exception:\n",
    "            print(\"Error Occured...enter again\")\n",
    "    for j in core_subject_list:\n",
    "        i.sub(j)\n",
    "        \n",
    "    i.sub(op1_subject[op1-1])\n",
    "    i.sub(op2_subject[op2-1])\n",
    "   \n",
    "        \n"
   ]
  },
  {
   "cell_type": "code",
   "execution_count": 76,
   "metadata": {},
   "outputs": [
    {
     "name": "stdout",
     "output_type": "stream",
     "text": [
      "----------------------------\n",
      "    Student Attendence \n",
      "----------------------------\n",
      "Choose Subject :\n",
      "1) Python\n",
      "2) Computer Networks\n",
      "3) Mobile Applications\n",
      "4) Graphic Designing\n",
      "5) Cyber Security\n",
      "6) Multimedia\n",
      "Enter :1\n",
      "\n",
      "Enter Date:\n",
      "DD: 7\n",
      "MM: 2\n",
      "YY: 2019\n",
      "Enter Attendence (Input only: 0=Absent or 1=Present): \n",
      "40301 ASASTHA  : 0\n",
      "40302 TRIAMBAK  : 1\n"
     ]
    }
   ],
   "source": [
    "## Recording Attendence\n",
    "temp=1\n",
    "print(\"----------------------------\")\n",
    "print(\"    Student Attendence \")\n",
    "print(\"----------------------------\")\n",
    "\n",
    "while True:\n",
    "    print(\"Choose Subject :\")\n",
    "    for i in all_sub:\n",
    "        print(\"{}) {}\".format(temp,i))\n",
    "        temp+=1\n",
    "    try:    \n",
    "        sub_attend=int(input(\"Enter :\"))\n",
    "        if sub_attend>0 and sub_attend<=7:\n",
    "            break\n",
    "        else:\n",
    "            print(\"wrong input\")\n",
    "    except Exception:\n",
    "        print(\"Error Input\")\n",
    "\n",
    "while True:            \n",
    "    print(\"\\nEnter Date:\")\n",
    "    try:\n",
    "        date=int(input(\"DD: \"))\n",
    "        month=int(input(\"MM: \"))\n",
    "        year=int(input(\"YY: \"))\n",
    "        sub_date=datetime.date(year,month,date)\n",
    "        break\n",
    "    except Exception as e:\n",
    "        print(e)\n",
    "            \n",
    "print(\"Enter Attendence (Input only: 0=Absent or 1=Present): \")\n",
    "\n",
    "for i in Student_list:\n",
    "    if all_sub[sub_attend-1] in i.stud_sub:\n",
    "        while True:\n",
    "            try:\n",
    "                mark=int(input(\"{} : \".format(i)))\n",
    "                if mark==0 or mark==1:\n",
    "                    break\n",
    "            except Exception:\n",
    "                print(\"Wrong Input\")\n",
    "                \n",
    "        i.attendence(all_sub[sub_attend-1],sub_date,mark)\n",
    "        \n",
    "        \n",
    "        \n",
    "\n",
    "\n",
    "\n"
   ]
  },
  {
   "cell_type": "code",
   "execution_count": 33,
   "metadata": {},
   "outputs": [],
   "source": [
    "a=datetime.date(2012,2,29)\n"
   ]
  },
  {
   "cell_type": "code",
   "execution_count": 26,
   "metadata": {},
   "outputs": [
    {
     "name": "stdout",
     "output_type": "stream",
     "text": [
      "2010-01-02\n"
     ]
    }
   ],
   "source": [
    "print(a)"
   ]
  },
  {
   "cell_type": "code",
   "execution_count": 59,
   "metadata": {},
   "outputs": [
    {
     "name": "stdout",
     "output_type": "stream",
     "text": [
      "[datetime.date(2020, 3, 7), datetime.date(2020, 3, 7)] 2020-03-07\n",
      "[0, 1] 0\n"
     ]
    }
   ],
   "source": [
    "for i in Student_list[0].Subject['Python'].values():\n",
    "    print(i,i[0])"
   ]
  },
  {
   "cell_type": "code",
   "execution_count": 77,
   "metadata": {},
   "outputs": [
    {
     "name": "stdout",
     "output_type": "stream",
     "text": [
      "Python Attendence\n",
      "Date\tPresent/Absent\n",
      "2019-02-07\t0\t\n",
      "2019-02-07\t1\t\n",
      "Python Attendence\n",
      "Date\tPresent/Absent\n",
      "2019-02-07\t0\t\n",
      "2019-02-07\t1\t\n"
     ]
    }
   ],
   "source": [
    "for i in Student_list:\n",
    "    i.result_attendence(all_sub[sub_attend-1])"
   ]
  },
  {
   "cell_type": "code",
   "execution_count": null,
   "metadata": {},
   "outputs": [],
   "source": []
  }
 ],
 "metadata": {
  "kernelspec": {
   "display_name": "Python 3",
   "language": "python",
   "name": "python3"
  },
  "language_info": {
   "codemirror_mode": {
    "name": "ipython",
    "version": 3
   },
   "file_extension": ".py",
   "mimetype": "text/x-python",
   "name": "python",
   "nbconvert_exporter": "python",
   "pygments_lexer": "ipython3",
   "version": "3.7.6"
  }
 },
 "nbformat": 4,
 "nbformat_minor": 4
}

#!/usr/bin/env python
# coding: utf-8

# # Q1. Availability of Numpy and its version in Python  (Screenshot)

# In[3]:


import numpy


# In[4]:


print(numpy.version.version)


# # Q2. Differenciate List and Numpy array with three operations

# In[5]:


import numpy as np


# In[6]:


listt = ["apple", "banana", "cherry",3]
print(listt)


# Python list can contains value of different datatypes whereas Numpy array contains value of same datatype

# In[7]:


arr = np.array([1, 2, 3, 4, 5])

print(arr)


# In[9]:


print("Length of the list: ",len(listt))


# In[10]:


print("Length of the array: ", arr.size)


# We use len() method to find the length of the list whereas for numpy we use variable_name.size operation 

# In[12]:


numbers=[1,2,3,4,5,6,7,8,9]
numbers3 = []
for n in numbers:
    numbers3.append(n**3)

print('Original list:', numbers)
print('Cubic list:', numbers3)


# In[14]:


print('First array is:')  
print(arr) 
  
print('\nApplying power function:')  
print(np.power(arr, 3)) 
  


# For finding the power of a Numpy array we use power() whereas for list we use append()

# In[ ]:





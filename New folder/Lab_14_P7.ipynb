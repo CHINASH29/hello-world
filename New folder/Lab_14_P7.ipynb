{
 "cells": [
  {
   "cell_type": "markdown",
   "metadata": {},
   "source": [
    "### P7-Generate two or more random paragraphs using the given online website.\n",
    "https://randomwordgenerator.com/paragraph.php\n",
    "\n",
    "### & perform the following tasks on it."
   ]
  },
  {
   "cell_type": "code",
   "execution_count": 1,
   "metadata": {},
   "outputs": [],
   "source": [
    "import re"
   ]
  },
  {
   "cell_type": "code",
   "execution_count": 4,
   "metadata": {},
   "outputs": [
    {
     "name": "stdout",
     "output_type": "stream",
     "text": [
      "She tried not to judge him. His ratty clothes and unkempt hair made him look homeless.\n",
      "Was he really the next Einstein as she had been told? On the off chance it was true, she\n",
      "continued to try not to judge him.\n",
      "\n",
      "Spending time at national parks can be an exciting adventure, but this wasn't the type of \n",
      "excitement she was hoping to experience. As she contemplated the situation she found \n",
      "herself in, she knew she'd gotten herself in a little more than she bargained for.\n",
      " It wasn't often that she found herself in a tree staring down at a pack of wolves that were \n",
      "looking to make her their next meal.\n"
     ]
    }
   ],
   "source": [
    "para = open(\"para_regex.txt\",\"r+\") \n",
    "reading = para.read()\n",
    "print(reading)\n"
   ]
  },
  {
   "cell_type": "markdown",
   "metadata": {},
   "source": [
    "### 01.Find the total number of paragraphs and total number of lines and words in each paragraph."
   ]
  },
  {
   "cell_type": "code",
   "execution_count": 5,
   "metadata": {},
   "outputs": [
    {
     "name": "stdout",
     "output_type": "stream",
     "text": [
      "The number of paragraph are 9\n",
      "The number of lines are 8\n",
      "The number of words are 127\n"
     ]
    }
   ],
   "source": [
    "paragraph = re.split(r'[\\n]', reading)\n",
    "lines = re.split(r'[.?]', reading)\n",
    "words = re.split(r'[ \\n,?.!]', reading)\n",
    "print(\"The number of paragraph are\", len(paragraph))\n",
    "print(\"The number of lines are\", len(lines))\n",
    "print(\"The number of words are\", len(words))"
   ]
  },
  {
   "cell_type": "markdown",
   "metadata": {},
   "source": [
    "### 02.Find all the words that begin with vowel in the first paragraph & those which begin with consonants in the second paragraph."
   ]
  },
  {
   "cell_type": "code",
   "execution_count": 6,
   "metadata": {},
   "outputs": [
    {
     "name": "stdout",
     "output_type": "stream",
     "text": [
      "VOWEL\n",
      "-----------------------------------------\n",
      "and\n",
      "unkempt\n",
      "-----------------------------------------\n",
      "CONSONANTS\n",
      "-----------------------------------------\n",
      "continued\n",
      "to\n",
      "try\n",
      "not\n",
      "to\n",
      "judge\n",
      "him.\n"
     ]
    }
   ],
   "source": [
    "print(\"VOWEL\")\n",
    "print(\"-----------------------------------------\")\n",
    "para1 = re.split(r'[ \\n]', paragraph[0])\n",
    "countvow = 0\n",
    "for word in para1:\n",
    "    if re.search(r'^[aeiouAEIOU]', word):\n",
    "        countvow += 1\n",
    "        print(word)\n",
    "print(\"-----------------------------------------\")\n",
    "print(\"CONSONANTS\")\n",
    "print(\"-----------------------------------------\")\n",
    "countconst = 0\n",
    "para2 = re.split(r'[ \\n]', paragraph[2])\n",
    "for word in para2:\n",
    "    if re.search(r'^[^aeiouAEIOU]', word):\n",
    "        countconst += 1\n",
    "        print(word)"
   ]
  },
  {
   "cell_type": "markdown",
   "metadata": {},
   "source": [
    "### 03.Find all the words having numerals."
   ]
  },
  {
   "cell_type": "code",
   "execution_count": 7,
   "metadata": {},
   "outputs": [
    {
     "name": "stdout",
     "output_type": "stream",
     "text": [
      "\n",
      "Words having numerals are 0\n"
     ]
    }
   ],
   "source": [
    "countnum = 0\n",
    "for w in range(len(words)):\n",
    "    if re.search(r'[0-9]', words[w]):\n",
    "        countnum += 1\n",
    "        print(words[w])\n",
    "print(\"\\nWords having numerals are\", countnum)"
   ]
  },
  {
   "cell_type": "markdown",
   "metadata": {},
   "source": [
    "### 04.Find all the words which begin with letter 'data/Data/DATA'. If know such words exist then add such related words and repeat the search."
   ]
  },
  {
   "cell_type": "code",
   "execution_count": 8,
   "metadata": {},
   "outputs": [
    {
     "name": "stdout",
     "output_type": "stream",
     "text": [
      "This is my data \n",
      "I am mining data \n",
      "\n",
      "Words which begin with letter 'data/Data/DATA' are 2\n"
     ]
    }
   ],
   "source": [
    "countd = 0\n",
    "words.append(\"This is my data \")\n",
    "words.append(\"I am mining data \")\n",
    "for i in range(len(words)):\n",
    "    if re.search(\"data|Data|DATA\", words[i]):\n",
    "        countd += 1\n",
    "        print(words[i])\n",
    "print(\"\\nWords which begin with letter 'data/Data/DATA' are\", countd)"
   ]
  },
  {
   "cell_type": "markdown",
   "metadata": {},
   "source": [
    "### 05.Find all the words which end with letter 'e'."
   ]
  },
  {
   "cell_type": "code",
   "execution_count": 9,
   "metadata": {},
   "outputs": [
    {
     "name": "stdout",
     "output_type": "stream",
     "text": [
      "She\n",
      "judge\n",
      "made\n",
      "he\n",
      "the\n",
      "she\n",
      "the\n",
      "chance\n",
      "true\n",
      "she\n",
      "judge\n",
      "time\n",
      "be\n",
      "adventure\n",
      "the\n",
      "type\n",
      "she\n",
      "experience\n",
      "she\n",
      "the\n",
      "she\n",
      "she\n",
      "little\n",
      "more\n",
      "she\n",
      "she\n",
      "tree\n",
      "were\n",
      "make\n",
      "\n",
      "Words which end with letter 'e' are 29\n"
     ]
    }
   ],
   "source": [
    "countE = 0\n",
    "for i in range(len(words)):\n",
    "    if re.search(r'e$', words[i]):\n",
    "        countE += 1\n",
    "        print(words[i])\n",
    "print(\"\\nWords which end with letter 'e' are\", countE )"
   ]
  },
  {
   "cell_type": "markdown",
   "metadata": {},
   "source": [
    "### 06.Find all the words that begins with an vowel and ends with an vowel OR that begins with a consonant and ends with a consonant."
   ]
  },
  {
   "cell_type": "code",
   "execution_count": 10,
   "metadata": {},
   "outputs": [
    {
     "name": "stdout",
     "output_type": "stream",
     "text": [
      "tried\n",
      "not\n",
      "him\n",
      "His\n",
      "ratty\n",
      "clothes\n",
      "hair\n",
      "him\n",
      "look\n",
      "homeless\n",
      "Was\n",
      "really\n",
      "next\n",
      "had\n",
      "been\n",
      "told\n",
      "was\n",
      "continued\n",
      "try\n",
      "not\n",
      "him\n",
      "Spending\n",
      "national\n",
      "parks\n",
      "can\n",
      "adventure\n",
      "but\n",
      "this\n",
      "wasn't\n",
      "was\n",
      "hoping\n",
      "experience\n",
      "contemplated\n",
      "situation\n",
      "found\n",
      "herself\n",
      "knew\n",
      "she'd\n",
      "gotten\n",
      "herself\n",
      "a\n",
      "than\n",
      "bargained\n",
      "for\n",
      "wasn't\n",
      "that\n",
      "found\n",
      "herself\n",
      "a\n",
      "staring\n",
      "down\n",
      "a\n",
      "pack\n",
      "wolves\n",
      "that\n",
      "looking\n",
      "her\n",
      "their\n",
      "next\n",
      "meal\n",
      "This is my data \n",
      "\n",
      "Words that begins with an vowel and ends with an vowel OR that begins with a consonant and ends with a consonant are  61\n"
     ]
    }
   ],
   "source": [
    "countVowCon = 0\n",
    "for w in range(len(words)):\n",
    "    if re.search(r'^[aeiouAEIOU]', words[w]) and re.search(r'[aeiouAEIOU]$', words[w]) or re.search(r'^[^aeiouAEIOU]', words[w]) and re.search(r'[^aeiouAEIOU]$', words[w]):\n",
    "        countVowCon += 1\n",
    "        print(words[w])\n",
    "print(\"\\nWords that begins with an vowel and ends with an vowel OR that begins with a consonant and ends with a consonant are \",countVowCon)"
   ]
  },
  {
   "cell_type": "markdown",
   "metadata": {},
   "source": [
    "### 07.Find all the words that have the letters 'to' in them, find the position of 'to' in each word."
   ]
  },
  {
   "cell_type": "code",
   "execution_count": 11,
   "metadata": {},
   "outputs": [
    {
     "name": "stdout",
     "output_type": "stream",
     "text": [
      "The word : to is in position : 0\n",
      "The word : told is in position : 0\n",
      "The word : to is in position : 0\n",
      "The word : to is in position : 0\n",
      "The word : to is in position : 0\n",
      "The word : to is in position : 0\n"
     ]
    }
   ],
   "source": [
    "\n",
    "countTo = 0\n",
    "for to in words:\n",
    "    if re.search(\"to\", to):\n",
    "        countTo += 1\n",
    "        print(\"The word : {} is in position : {}\".format(to, to.index(\"to\")))"
   ]
  },
  {
   "cell_type": "markdown",
   "metadata": {},
   "source": [
    "### 08.Find all the words that have capital letters in them."
   ]
  },
  {
   "cell_type": "code",
   "execution_count": 19,
   "metadata": {},
   "outputs": [
    {
     "name": "stdout",
     "output_type": "stream",
     "text": [
      "She\n",
      "His\n",
      "Was\n",
      "Einstein\n",
      "On\n",
      "Spending\n",
      "As\n",
      "It\n"
     ]
    }
   ],
   "source": [
    "countVowCon = 0\n",
    "for w in range(len(words)):\n",
    "    if re.search(r'[A-Z]+[a-z]+$', words[w]):\n",
    "        countVowCon += 1\n",
    "        print(words[w])"
   ]
  },
  {
   "cell_type": "markdown",
   "metadata": {},
   "source": [
    "### 09.Find all the words that have special symbols in them."
   ]
  },
  {
   "cell_type": "code",
   "execution_count": 20,
   "metadata": {},
   "outputs": [
    {
     "name": "stdout",
     "output_type": "stream",
     "text": [
      "wasn't\n",
      "she'd\n",
      "wasn't\n"
     ]
    }
   ],
   "source": [
    "countVowCon = 0\n",
    "for w in range(len(words)):\n",
    "    if re.search(r'(http://\\S+|\\S*[^\\w\\s]\\S*)', words[w]):\n",
    "        countVowCon += 1\n",
    "        print(words[w])"
   ]
  },
  {
   "cell_type": "markdown",
   "metadata": {},
   "source": [
    "### 10.Find the first occurence of fullstop in your input."
   ]
  },
  {
   "cell_type": "code",
   "execution_count": 21,
   "metadata": {},
   "outputs": [],
   "source": [
    "countVowCon = 0\n",
    "for w in range(len(words)):\n",
    "    if re.search(r'\\.+', words[w]):\n",
    "        countVowCon += 1\n",
    "        print(words[w])"
   ]
  },
  {
   "cell_type": "markdown",
   "metadata": {},
   "source": [
    "### 11.Find the words that dont have any vowel in them. If no such words exist add a few related words and repeat the task."
   ]
  },
  {
   "cell_type": "code",
   "execution_count": 22,
   "metadata": {},
   "outputs": [
    {
     "name": "stdout",
     "output_type": "stream",
     "text": [
      "tried\n",
      "not\n",
      "him\n",
      "His\n",
      "ratty\n",
      "clothes\n",
      "and\n",
      "unkempt\n",
      "hair\n",
      "him\n",
      "look\n",
      "homeless\n",
      "Was\n",
      "really\n",
      "next\n",
      "Einstein\n",
      "as\n",
      "had\n",
      "been\n",
      "told\n",
      "On\n",
      "off\n",
      "it\n",
      "was\n",
      "continued\n",
      "try\n",
      "not\n",
      "him\n",
      "Spending\n",
      "at\n",
      "national\n",
      "parks\n",
      "can\n",
      "an\n",
      "exciting\n",
      "but\n",
      "this\n",
      "wasn't\n",
      "of\n",
      "excitement\n",
      "was\n",
      "hoping\n",
      "As\n",
      "contemplated\n",
      "situation\n",
      "found\n",
      "herself\n",
      "in\n",
      "knew\n",
      "she'd\n",
      "gotten\n",
      "herself\n",
      "in\n",
      "than\n",
      "bargained\n",
      "for\n",
      "It\n",
      "wasn't\n",
      "often\n",
      "that\n",
      "found\n",
      "herself\n",
      "in\n",
      "staring\n",
      "down\n",
      "at\n",
      "pack\n",
      "of\n",
      "wolves\n",
      "that\n",
      "looking\n",
      "her\n",
      "their\n",
      "next\n",
      "meal\n",
      "This is my data \n",
      "I am mining data \n"
     ]
    }
   ],
   "source": [
    "countVowCon = 0\n",
    "for w in range(len(words)):\n",
    "    if re.search(r'[^aeiouAEIOU]+$', words[w]):\n",
    "        countVowCon += 1\n",
    "        print(words[w])"
   ]
  },
  {
   "cell_type": "markdown",
   "metadata": {},
   "source": [
    "### 12.Find the first occurent of a word that does not begin with consonant but ends with 'ing' and has 'ta' in it."
   ]
  },
  {
   "cell_type": "code",
   "execution_count": 23,
   "metadata": {},
   "outputs": [
    {
     "name": "stdout",
     "output_type": "stream",
     "text": [
      "exciting\n"
     ]
    }
   ],
   "source": [
    "countVowCon = 0\n",
    "for w in range(len(words)):\n",
    "    if re.search(r'^[AEIOUaeiuo]+\\w+ing$', words[w]):\n",
    "        countVowCon += 1\n",
    "        print(words[w])"
   ]
  },
  {
   "cell_type": "code",
   "execution_count": null,
   "metadata": {},
   "outputs": [],
   "source": []
  }
 ],
 "metadata": {
  "kernelspec": {
   "display_name": "Python 3",
   "language": "python",
   "name": "python3"
  },
  "language_info": {
   "codemirror_mode": {
    "name": "ipython",
    "version": 3
   },
   "file_extension": ".py",
   "mimetype": "text/x-python",
   "name": "python",
   "nbconvert_exporter": "python",
   "pygments_lexer": "ipython3",
   "version": "3.7.6"
  }
 },
 "nbformat": 4,
 "nbformat_minor": 4
}

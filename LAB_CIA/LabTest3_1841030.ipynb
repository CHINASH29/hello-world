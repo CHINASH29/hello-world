{
 "cells": [
  {
   "cell_type": "markdown",
   "metadata": {},
   "source": [
    "# Mishan Regmi 1841030 5BCA \"A\""
   ]
  },
  {
   "cell_type": "markdown",
   "metadata": {},
   "source": [
    "## Creation of XML document with root of Hsopital and Child element Student and subchild ID, Name, Specialization, Login, and Password."
   ]
  },
  {
   "cell_type": "code",
   "execution_count": null,
   "metadata": {},
   "outputs": [],
   "source": [
    "import xml.etree.ElementTree as ET\n",
    "myTree = ET.parse('data.xml')"
   ]
  },
  {
   "cell_type": "code",
   "execution_count": null,
   "metadata": {},
   "outputs": [],
   "source": [
    "#Checking the Root Tag\n",
    "myroot = myTree.getroot()\n",
    "print(myroot.tag)"
   ]
  },
  {
   "cell_type": "code",
   "execution_count": null,
   "metadata": {},
   "outputs": [],
   "source": [
    "for x in myroot.findall('Doctor'):\n",
    "    id = x.find('id').text #convert data to text\n",
    "    name = x.find('name').text\n",
    "    spec = x.find('spec').text\n",
    "    login  = x.find('login').text\n",
    "    password  = x.find('password').text\n",
    "    \n",
    "    print('\\n')\n",
    "    print('ID       : {}\\n'.format(id))\n",
    "    print('NAME     : {}\\n'.format(name))\n",
    "    print('SPECIALIZATION   : {}\\n'.format(spec))\n",
    "    print('LOGIN    : {}\\n'.format(login))\n",
    "    print('PASSWORD    : {}\\n'.format(password))"
   ]
  },
  {
   "cell_type": "markdown",
   "metadata": {},
   "source": [
    "## INPUT NEW DOCTOR"
   ]
  },
  {
   "cell_type": "code",
   "execution_count": null,
   "metadata": {},
   "outputs": [],
   "source": [
    "idget     = input('ID :')\n",
    "nameget   = input('Name :')\n",
    "specget = input('Specialization :')\n",
    "loginget  = input('Login  :')\n",
    "passwordget  = input('Password  :')\n",
    "\n",
    "child=ET.Element(\"Doctor\") #added tags tudent\n",
    "myroot.append(child)\n",
    "\n",
    "#Data get saved here\n",
    "idd = ET.SubElement(child,'id')\n",
    "idd.text = idget\n",
    "nm = ET.SubElement(child, \"name\")\n",
    "nm.text = nameget\n",
    "spec = ET.SubElement(child, \"spec\")\n",
    "spec.text = specget\n",
    "login=ET.SubElement(child, \"login\")\n",
    "login.text= loginget\n",
    "password=ET.SubElement(child, \"password\")\n",
    "password.text= passwordget\n",
    "\n",
    "#Insert into our data file\n",
    "myTree.write('data.xml')"
   ]
  },
  {
   "cell_type": "markdown",
   "metadata": {},
   "source": [
    "## UPDATE DOCTOR"
   ]
  },
  {
   "cell_type": "code",
   "execution_count": null,
   "metadata": {},
   "outputs": [],
   "source": [
    "a = input(\"Enter the Doctor ID to change password:/n\")\n",
    "\n",
    "for st in myroot.findall('Doctor'):\n",
    "        b = st.find('id').text\n",
    "        if a == b:\n",
    "            newpass = st.find('password')\n",
    "            new=input(\"Enter New Password :\")\n",
    "            newpass.text=new\n",
    "            myTree.write('data.xml')\n",
    "            break\n",
    "        else:\n",
    "            print(\"No Id Found\")"
   ]
  },
  {
   "cell_type": "markdown",
   "metadata": {},
   "source": [
    "## DELETE DOCTOR"
   ]
  },
  {
   "cell_type": "markdown",
   "metadata": {},
   "source": [
    "#### NEED TO BE DONE"
   ]
  },
  {
   "cell_type": "markdown",
   "metadata": {},
   "source": [
    "## Checking The ID Present"
   ]
  },
  {
   "cell_type": "code",
   "execution_count": null,
   "metadata": {},
   "outputs": [],
   "source": [
    "print(\"\\nThe Student ID present are:\\n\") \n",
    "for grade in myroot.iter('id'):  \n",
    "    print(grade.text)"
   ]
  }
 ],
 "metadata": {
  "kernelspec": {
   "display_name": "Python 3",
   "language": "python",
   "name": "python3"
  },
  "language_info": {
   "codemirror_mode": {
    "name": "ipython",
    "version": 3
   },
   "file_extension": ".py",
   "mimetype": "text/x-python",
   "name": "python",
   "nbconvert_exporter": "python",
   "pygments_lexer": "ipython3",
   "version": "3.7.7"
  }
 },
 "nbformat": 4,
 "nbformat_minor": 4
}

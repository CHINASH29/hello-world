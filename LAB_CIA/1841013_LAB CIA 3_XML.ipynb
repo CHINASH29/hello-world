{
 "cells": [
  {
   "cell_type": "code",
   "execution_count": 1,
   "metadata": {},
   "outputs": [],
   "source": [
    "import xml.etree.ElementTree as ET\n",
    "myTree = ET.parse('1841013_data.xml')"
   ]
  },
  {
   "cell_type": "code",
   "execution_count": 2,
   "metadata": {},
   "outputs": [
    {
     "name": "stdout",
     "output_type": "stream",
     "text": [
      "University\n"
     ]
    }
   ],
   "source": [
    "myroot = myTree.getroot()\n",
    "print(myroot.tag)"
   ]
  },
  {
   "cell_type": "code",
   "execution_count": 3,
   "metadata": {},
   "outputs": [
    {
     "name": "stdout",
     "output_type": "stream",
     "text": [
      "\n",
      "DETAILS\n",
      "\n",
      "NAME     : Mishan Regmi\n",
      "DESIGNATION   : Professor\n",
      "EMAIL    : rgmishan@gmail.com\n",
      "PASSWORD : mishan123\n",
      "\n",
      "DETAILS\n",
      "\n",
      "NAME     : Deep Das\n",
      "DESIGNATION   : IT Department\n",
      "EMAIL    : deepdas@gmail.com\n",
      "PASSWORD : deepdas123\n",
      "\n",
      "DETAILS\n",
      "\n",
      "NAME     : Raghav Vasan\n",
      "DESIGNATION   : HR\n",
      "EMAIL    : raghav@gmail.com\n",
      "PASSWORD : raghav123\n"
     ]
    }
   ],
   "source": [
    "for x in myroot.findall('Faculty'):\n",
    "    name = x.find('name').text\n",
    "    desig = x.find('designation').text\n",
    "    email = x.find('email').text\n",
    "    pw  = x.find('password').text\n",
    "    \n",
    "    print('\\nDETAILS\\n')\n",
    "    print('NAME     : {}'.format(name))\n",
    "    print('DESIGNATION   : {}'.format(desig))\n",
    "    print('EMAIL    : {}'.format(email))\n",
    "    print('PASSWORD : {}'.format(pw))"
   ]
  },
  {
   "cell_type": "code",
   "execution_count": 4,
   "metadata": {},
   "outputs": [
    {
     "name": "stdin",
     "output_type": "stream",
     "text": [
      "Name:  \n",
      "Designation:  \n",
      "Email:  \n",
      "Password:  \n"
     ]
    }
   ],
   "source": [
    "nameget = input('Name: ')\n",
    "desigget = input('Designation: ')\n",
    "emailget = input('Email: ')\n",
    "passget = input('Password: ')\n",
    "\n",
    "child=ET.Element(\"Faculty\") #added tag Faculty\n",
    "myroot.append(child)\n",
    "\n",
    "#Data get saved here\n",
    "nm = ET.SubElement(child, \"name\")\n",
    "nm.text = nameget\n",
    "dsg = ET.SubElement(child, \"designation\")\n",
    "dsg.text = desigget\n",
    "eml = ET.SubElement(child, \"email\")\n",
    "eml.text= emailget\n",
    "pw = ET.SubElement(child, \"password\")\n",
    "pw.text = passget\n",
    "\n",
    "#Insert into our data file\n",
    "myTree.write('1841013_data.xml')"
   ]
  },
  {
   "cell_type": "code",
   "execution_count": null,
   "metadata": {},
   "outputs": [],
   "source": [
    "a = input(\"Enter the Faculty Email ID :\")\n",
    "\n",
    "for ft in myroot.findall('Faculty'):\n",
    "        b = ft.find('email').text\n",
    "        if a == b:\n",
    "            nam = ft.find('name')\n",
    "            new_nam = input('Enter the new name')\n",
    "            nam.text = new_nam\n",
    "            \n",
    "            des = ft.find('designation')\n",
    "            new_des=input(\"Enter New Designation :\")\n",
    "            des.text=new_des\n",
    "            \n",
    "            passw = ft.find('password')\n",
    "            new_passw = input(\"Enter a new password:\")\n",
    "            new_passw.text = new_passw\n",
    "            \n",
    "            myTree.write('data.xml')\n",
    "            break\n",
    "        else:\n",
    "            print(\"No Email ID Found\")"
   ]
  },
  {
   "cell_type": "code",
   "execution_count": null,
   "metadata": {},
   "outputs": [],
   "source": []
  }
 ],
 "metadata": {
  "kernelspec": {
   "display_name": "Python 3",
   "language": "python",
   "name": "python3"
  },
  "language_info": {
   "codemirror_mode": {
    "name": "ipython",
    "version": 3
   },
   "file_extension": ".py",
   "mimetype": "text/x-python",
   "name": "python",
   "nbconvert_exporter": "python",
   "pygments_lexer": "ipython3",
   "version": "3.7.6"
  }
 },
 "nbformat": 4,
 "nbformat_minor": 4
}
